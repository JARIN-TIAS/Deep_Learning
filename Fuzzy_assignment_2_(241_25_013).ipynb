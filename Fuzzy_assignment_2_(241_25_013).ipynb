{
  "nbformat": 4,
  "nbformat_minor": 0,
  "metadata": {
    "colab": {
      "provenance": [],
      "authorship_tag": "ABX9TyMiZsNmEIwJp9lc1KiWEvCd",
      "include_colab_link": true
    },
    "kernelspec": {
      "name": "python3",
      "display_name": "Python 3"
    },
    "language_info": {
      "name": "python"
    }
  },
  "cells": [
    {
      "cell_type": "markdown",
      "metadata": {
        "id": "view-in-github",
        "colab_type": "text"
      },
      "source": [
        "<a href=\"https://colab.research.google.com/github/JARIN-TIAS/Deep_Learning/blob/main/Fuzzy_assignment_2_(241_25_013).ipynb\" target=\"_parent\"><img src=\"https://colab.research.google.com/assets/colab-badge.svg\" alt=\"Open In Colab\"/></a>"
      ]
    },
    {
      "cell_type": "code",
      "execution_count": 2,
      "metadata": {
        "id": "HNSd1KQCk2Xa"
      },
      "outputs": [],
      "source": [
        "import numpy as np\n",
        "\n",
        "# Sigmoid activation function and its derivative\n",
        "def sigmoid(x):\n",
        "    return 1 / (1 + np.exp(-x))\n",
        "\n",
        "def sigmoid_derivative(x):\n",
        "    return x * (1 - x)"
      ]
    },
    {
      "cell_type": "code",
      "source": [
        "# Training dataset (inputs and expected outputs)\n",
        "training_inputs = np.array([[0, 0, 0],\n",
        "                            [0, 0, 1],\n",
        "                            [0, 1, 0],\n",
        "                            [0, 1, 1],\n",
        "                            [1, 0, 0],\n",
        "                            [1, 0, 1],\n",
        "                            [1, 1, 0],\n",
        "                            [1, 1, 1]])\n",
        "\n",
        "training_outputs = np.array([[0], [1], [1], [0], [1], [0], [0], [1]])"
      ],
      "metadata": {
        "id": "rbDv6KEpk5uB"
      },
      "execution_count": 3,
      "outputs": []
    },
    {
      "cell_type": "code",
      "source": [
        "# Initialize weights and biases\n",
        "np.random.seed(1)\n",
        "weights_input_hidden = 2 * np.random.random((3, 4)) - 1  # 3 inputs, 4 neurons in hidden layer\n",
        "weights_hidden_output = 2 * np.random.random((4, 1)) - 1  # 4 hidden neurons, 1 output\n",
        "bias_hidden = np.zeros((1, 4))\n",
        "bias_output = np.zeros((1, 1))\n",
        "\n",
        "# Hyperparameters\n",
        "learning_rate = 0.1\n",
        "momentum = 0.01"
      ],
      "metadata": {
        "id": "v_bVlL2Jk8fg"
      },
      "execution_count": 4,
      "outputs": []
    },
    {
      "cell_type": "code",
      "source": [
        "# Training the network\n",
        "for epoch in range(10000):  # Number of iterations\n",
        "    # Forward pass\n",
        "    hidden_layer_input = np.dot(training_inputs, weights_input_hidden) + bias_hidden\n",
        "    hidden_layer_output = sigmoid(hidden_layer_input)\n",
        "    final_output_input = np.dot(hidden_layer_output, weights_hidden_output) + bias_output\n",
        "    final_output = sigmoid(final_output_input)\n",
        "\n",
        "    # Calculate error\n",
        "    error = training_outputs - final_output\n",
        "\n",
        "    # Backpropagation\n",
        "    output_gradient = error * sigmoid_derivative(final_output)\n",
        "    hidden_layer_error = np.dot(output_gradient, weights_hidden_output.T)\n",
        "    hidden_gradient = hidden_layer_error * sigmoid_derivative(hidden_layer_output)\n",
        "\n",
        "    # Update weights and biases with momentum\n",
        "    weights_hidden_output += np.dot(hidden_layer_output.T, output_gradient) * learning_rate\n",
        "    weights_input_hidden += np.dot(training_inputs.T, hidden_gradient) * learning_rate\n",
        "    bias_output += np.sum(output_gradient, axis=0, keepdims=True) * learning_rate\n",
        "    bias_hidden += np.sum(hidden_gradient, axis=0, keepdims=True) * learning_rate\n"
      ],
      "metadata": {
        "id": "LKJ3Poj8lCQd"
      },
      "execution_count": 5,
      "outputs": []
    },
    {
      "cell_type": "code",
      "source": [
        "# Testing the network\n",
        "testing_inputs = np.array([[1, 1, 1]])\n",
        "hidden_layer_input_test = np.dot(testing_inputs, weights_input_hidden) + bias_hidden\n",
        "hidden_layer_output_test = sigmoid(hidden_layer_input_test)\n",
        "final_output_input_test = np.dot(hidden_layer_output_test, weights_hidden_output) + bias_output\n",
        "final_output_test = sigmoid(final_output_input_test)\n",
        "\n",
        "print(\"Output for testing data [1, 1, 1]:\", final_output_test)"
      ],
      "metadata": {
        "colab": {
          "base_uri": "https://localhost:8080/"
        },
        "id": "W3MR6OyBlEJY",
        "outputId": "9cdab9ea-d803-472b-ac9a-d31602f1d95a"
      },
      "execution_count": 6,
      "outputs": [
        {
          "output_type": "stream",
          "name": "stdout",
          "text": [
            "Output for testing data [1, 1, 1]: [[0.98004937]]\n"
          ]
        }
      ]
    }
  ]
}