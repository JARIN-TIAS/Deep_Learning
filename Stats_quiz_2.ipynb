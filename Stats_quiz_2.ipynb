{
  "nbformat": 4,
  "nbformat_minor": 0,
  "metadata": {
    "colab": {
      "provenance": [],
      "gpuType": "T4",
      "authorship_tag": "ABX9TyOtHiI4HTpG0QhIGHNxITnP"
    },
    "kernelspec": {
      "name": "python3",
      "display_name": "Python 3"
    },
    "language_info": {
      "name": "python"
    }
  },
  "cells": [
    {
      "cell_type": "markdown",
      "source": [
        "# 1. Write the Python code to load the dataset and handle the missing information. Find out the percentage of null or missing information.\n"
      ],
      "metadata": {
        "id": "tGysjZDRb98t"
      }
    },
    {
      "cell_type": "code",
      "execution_count": null,
      "metadata": {
        "id": "yGMsTZv0OKdA"
      },
      "outputs": [],
      "source": [
        "import pandas as pd\n",
        "import matplotlib.pyplot as plt\n",
        "import seaborn as sns\n",
        "\n",
        "df = pd.read_csv('/content/loan11.csv')"
      ]
    },
    {
      "cell_type": "code",
      "source": [
        "# Display the first few rows of the dataframe\n",
        "print(\"First few rows of the dataset:\")\n",
        "print(df.head())\n",
        "\n",
        "# Find the percentage of missing values for each column\n",
        "missing_percentage = df.isnull().mean() * 100\n",
        "\n",
        "# Display the percentage of missing values\n",
        "print(\"\\nPercentage of missing values per column:\")\n",
        "print(missing_percentage)\n"
      ],
      "metadata": {
        "colab": {
          "base_uri": "https://localhost:8080/"
        },
        "collapsed": true,
        "id": "_1WAutj2auvv",
        "outputId": "8ec43b90-ce45-4366-e4fc-e962796950be"
      },
      "execution_count": null,
      "outputs": [
        {
          "output_type": "stream",
          "name": "stdout",
          "text": [
            "First few rows of the dataset:\n",
            "    Loan_ID Gender Married Dependents     Education Self_Employed  \\\n",
            "0  LP001002   Male      No          0      Graduate            No   \n",
            "1  LP001003   Male     Yes          1      Graduate            No   \n",
            "2  LP001005   Male     Yes          0      Graduate           Yes   \n",
            "3  LP001006   Male     Yes          0  Not Graduate            No   \n",
            "4  LP001008   Male      No          0      Graduate            No   \n",
            "\n",
            "   ApplicantIncome  CoapplicantIncome  LoanAmount  Loan_Amount_Term  \\\n",
            "0             5849                0.0         NaN             360.0   \n",
            "1             4583             1508.0       128.0             360.0   \n",
            "2             3000                0.0        66.0             360.0   \n",
            "3             2583             2358.0       120.0             360.0   \n",
            "4             6000                0.0       141.0             360.0   \n",
            "\n",
            "   Credit_History Property_Area Loan_Status  \n",
            "0             1.0         Urban           Y  \n",
            "1             1.0         Rural           N  \n",
            "2             1.0         Urban           Y  \n",
            "3             1.0         Urban           Y  \n",
            "4             1.0         Urban           Y  \n",
            "\n",
            "Percentage of missing values per column:\n",
            "Loan_ID              0.000000\n",
            "Gender               2.117264\n",
            "Married              0.488599\n",
            "Dependents           2.442997\n",
            "Education            0.000000\n",
            "Self_Employed        5.211726\n",
            "ApplicantIncome      0.000000\n",
            "CoapplicantIncome    0.000000\n",
            "LoanAmount           3.583062\n",
            "Loan_Amount_Term     2.280130\n",
            "Credit_History       8.143322\n",
            "Property_Area        0.000000\n",
            "Loan_Status          0.000000\n",
            "dtype: float64\n"
          ]
        }
      ]
    },
    {
      "cell_type": "markdown",
      "source": [
        " # 2. Data cleaning involves identifying and correcting errors and outliers. Write code to check whether the data has any outliers."
      ],
      "metadata": {
        "id": "hAgBKrw7b2EC"
      }
    },
    {
      "cell_type": "code",
      "source": [],
      "metadata": {
        "id": "6RzCZH7Pb1wo"
      },
      "execution_count": null,
      "outputs": []
    },
    {
      "cell_type": "markdown",
      "source": [
        "# 3. write code for the distribution value of the numerical data."
      ],
      "metadata": {
        "id": "4p_tvxk4df_q"
      }
    },
    {
      "cell_type": "code",
      "source": [
        "import pandas as pd\n",
        "import matplotlib.pyplot as plt\n",
        "\n",
        "# Load the data from CSV file\n",
        "df = pd.read_csv('/content/loan11.csv')\n",
        "\n",
        "# Column name call. Assuming the Applicant income( numerical data)  data is in a column named 'ApplicantIncome'\n",
        "numerical_data = df['ApplicantIncome']\n",
        "\n",
        "# Calculate statistical measures\n",
        "mean_value = numerical_data.mean()\n",
        "median_value = numerical_data.median()\n",
        "mode_value = numerical_data.mode()[0]  # mode() returns a Series\n",
        "std_dev = numerical_data.std()\n",
        "percentiles = numerical_data.quantile([0.25, 0.5, 0.75])\n",
        "\n",
        "# Print statistical measures\n",
        "print(\"mean: {mean_value}\")\n",
        "print(f\"Median: {median_value}\")\n",
        "print(f\"Mode: {mode_value}\")\n",
        "print(f\"Standard Deviation: {std_dev}\")\n",
        "print(\"Percentiles:\")\n",
        "print(percentiles)\n",
        "\n",
        "# Visualize the distribution\n",
        "plt.figure(figsize=(15, 7))\n",
        "\n",
        "# Histogram\n",
        "plt.subplot(1, 2, 1)\n",
        "plt.hist(numerical_data, bins=20, edgecolor='k')\n",
        "plt.title('Histogram')\n",
        "plt.xlabel('Value')\n",
        "plt.ylabel('Frequency')\n",
        "\n",
        "# Box plot\n",
        "plt.subplot(1, 2, 2)\n",
        "plt.boxplot(numerical_data, vert=False)\n",
        "plt.title('Box Plot')\n",
        "plt.xlabel('Value')\n",
        "\n",
        "# Show plots\n",
        "plt.tight_layout()\n",
        "plt.show()"
      ],
      "metadata": {
        "colab": {
          "base_uri": "https://localhost:8080/",
          "height": 868
        },
        "id": "QmFNQHXRd-zA",
        "outputId": "b7980ef7-0a7c-484a-a3bb-38116bce18ba"
      },
      "execution_count": null,
      "outputs": [
        {
          "output_type": "stream",
          "name": "stdout",
          "text": [
            "mean: {mean_value}\n",
            "Median: 3812.5\n",
            "Mode: 2500\n",
            "Standard Deviation: 6109.041673387178\n",
            "Percentiles:\n",
            "0.25    2877.5\n",
            "0.50    3812.5\n",
            "0.75    5795.0\n",
            "Name: ApplicantIncome, dtype: float64\n"
          ]
        },
        {
          "output_type": "display_data",
          "data": {
            "text/plain": [
              "<Figure size 1500x700 with 2 Axes>"
            ],
            "image/png": "[encoded data removed]"
          },
          "metadata": {}
        }
      ]
    }
  ]
}